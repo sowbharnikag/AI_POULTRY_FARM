{
 "cells": [
  {
   "cell_type": "code",
   "execution_count": 13,
   "metadata": {},
   "outputs": [
    {
     "name": "stdout",
     "output_type": "stream",
     "text": [
      " Decision Tree Accuracy: 0.9975\n",
      " Decision Tree R^2 Score: 0.9715888912564813\n"
     ]
    },
    {
     "data": {
      "text/plain": [
       "['fogger_dt_model.pkl']"
      ]
     },
     "execution_count": 13,
     "metadata": {},
     "output_type": "execute_result"
    }
   ],
   "source": [
    "# Import Libraries\n",
    "import pandas as pd\n",
    "from sklearn.model_selection import train_test_split\n",
    "from sklearn.tree import DecisionTreeClassifier\n",
    "from sklearn.ensemble import RandomForestClassifier\n",
    "from sklearn.metrics import accuracy_score, r2_score\n",
    "import joblib\n",
    "\n",
    "# Load your collected data\n",
    "dataset = pd.read_csv('poultry_farm_dataset.csv')  # CSV file with Temperature, Humidity (%), Timestamp, Fogger_Status\n",
    "\n",
    "# Use only Temperature and Humidity (%) for training\n",
    "X = dataset[['Temperature', 'Humidity (%)']]  # ⬅️ No Timestamp here\n",
    "y = dataset['Fogger_Status']\n",
    "\n",
    "# Split into Training and Testing\n",
    "X_train, X_test, y_train, y_test = train_test_split(X, y, test_size=0.2, random_state=42)\n",
    "\n",
    "# Decision Tree Model\n",
    "dt_model = DecisionTreeClassifier(max_depth=5, random_state=42)\n",
    "dt_model.fit(X_train, y_train)\n",
    "dt_pred = dt_model.predict(X_test)\n",
    "\n",
    "# Metrics\n",
    "print(\" Decision Tree Accuracy:\", accuracy_score(y_test, dt_pred))\n",
    "print(\" Decision Tree R^2 Score:\", r2_score(y_test, dt_pred))\n",
    "\n",
    "# Save the models\n",
    "joblib.dump(dt_model, 'fogger_dt_model.pkl')\n"
   ]
  }
 ],
 "metadata": {
  "kernelspec": {
   "display_name": "base",
   "language": "python",
   "name": "python3"
  },
  "language_info": {
   "codemirror_mode": {
    "name": "ipython",
    "version": 3
   },
   "file_extension": ".py",
   "mimetype": "text/x-python",
   "name": "python",
   "nbconvert_exporter": "python",
   "pygments_lexer": "ipython3",
   "version": "3.12.7"
  }
 },
 "nbformat": 4,
 "nbformat_minor": 2
}
